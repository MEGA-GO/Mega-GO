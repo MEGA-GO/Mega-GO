{
 "cells": [
  {
   "cell_type": "code",
   "execution_count": 6,
   "metadata": {},
   "outputs": [
    {
     "name": "stdout",
     "output_type": "stream",
     "text": [
      "go-basic.obo: fmt(1.2) rel(2020-01-01) 47,337 GO Terms\n"
     ]
    }
   ],
   "source": [
    "from goatools.obo_parser import GODag\n",
    "godag = GODag(\"go-basic.obo\")"
   ]
  },
  {
   "cell_type": "code",
   "execution_count": 16,
   "metadata": {},
   "outputs": [
    {
     "name": "stdout",
     "output_type": "stream",
     "text": [
      "HMS:0:00:04.082756 236,821 annotations READ: C:\\Users\\WASIM\\OneDrive\\Documents\\tair.gaf \n",
      "19626 IDs in loaded association branch, BP\n"
     ]
    }
   ],
   "source": [
    "import os\n",
    "from goatools.associations import dnld_assc\n",
    "fin_gaf = os.path.join(os.getcwd(), \"tair.gaf\")\n",
    "associations = dnld_assc(fin_gaf, godag)"
   ]
  },
  {
   "cell_type": "code",
   "execution_count": 23,
   "metadata": {},
   "outputs": [],
   "source": [
    "go_id3 = 'GO:0048364'\n",
    "go_id4 = 'GO:0032501'"
   ]
  },
  {
   "cell_type": "code",
   "execution_count": 24,
   "metadata": {},
   "outputs": [
    {
     "name": "stdout",
     "output_type": "stream",
     "text": [
      "GO:0008150\n"
     ]
    }
   ],
   "source": [
    "from goatools.semantic import deepest_common_ancestor\n",
    "go_root = deepest_common_ancestor([go_id3, go_id4], godag)\n",
    "print(go_root)"
   ]
  },
  {
   "cell_type": "code",
   "execution_count": 12,
   "metadata": {},
   "outputs": [
    {
     "name": "stdout",
     "output_type": "stream",
     "text": [
      "The semantic similarity between terms GO:0030170 and GO:0043167 is 0.3333333333333333.\n"
     ]
    }
   ],
   "source": [
    "from goatools.semantic import semantic_similarity\n",
    "\n",
    "sim = semantic_similarity(go_id3, go_id4, godag)\n",
    "print('The semantic similarity between terms {} and {} is {}.'.format(go_id3, go_id4, sim))"
   ]
  },
  {
   "cell_type": "code",
   "execution_count": 21,
   "metadata": {},
   "outputs": [
    {
     "name": "stdout",
     "output_type": "stream",
     "text": [
      "Information content (GO:0048364) = 1.8828986711773308\n"
     ]
    }
   ],
   "source": [
    "from goatools.semantic import TermCounts, get_info_content\n",
    "\n",
    "# First get the counts of each GO term.\n",
    "termcounts = TermCounts(godag, associations)\n",
    "\n",
    "# Calculate the information content\n",
    "go_id = \"GO:0048364\"\n",
    "infocontent = get_info_content(go_id, termcounts)\n",
    "print('Information content ({}) = {}'.format(go_id, infocontent))"
   ]
  },
  {
   "cell_type": "code",
   "execution_count": null,
   "metadata": {},
   "outputs": [],
   "source": [
    "\n",
    "\n",
    "from goatools.semantic import lin_sim\n",
    "\n",
    "sim_l = lin_sim(go_id3, go_id4, godag, termcounts)\n",
    "print('Lin similarity score ({}, {}) = {}'.format(go_id3, go_id4, sim_l))\n",
    "\n"
   ]
  },
  {
   "cell_type": "code",
   "execution_count": 22,
   "metadata": {},
   "outputs": [
    {
     "data": {
      "text/plain": [
       "0.013094874146540304"
      ]
     },
     "execution_count": 22,
     "metadata": {},
     "output_type": "execute_result"
    }
   ],
   "source": [
    "msca_goid = deepest_common_ancestor([go_id1, go_id2], godag)\n",
    "freq = termcounts.get_term_freq(go_id)\n",
    "freq"
   ]
  },
  {
   "cell_type": "code",
   "execution_count": null,
   "metadata": {},
   "outputs": [],
   "source": [
    "def BMA(set1,set2,similarity_method):\n",
    "    summationSet12 = 0.0\n",
    "    summationSet21 = 0.0\n",
    "    for id1 in set1:\n",
    "        similarity_values = []\n",
    "        for id2 in set2:\n",
    "            similarity_values.append(lin_sim(id1,id2,godag,termcounts))\n",
    "        summationSet12 += max(similarity_values)\n",
    "    for id2 in set2:\n",
    "        similarity_values = []\n",
    "        for id1 in set1:\n",
    "            similarity_values.append(lin_sim(id2,id1,godag,termcounts))\n",
    "        summationSet21 += max(similarity_values)\n",
    "    return (summationSet12+summationSet21)/(len(set1)+len(set2))"
   ]
  },
  {
   "cell_type": "code",
   "execution_count": 1,
   "metadata": {},
   "outputs": [],
   "source": [
    "def Rel_Metric(id1,id2,godag,termcounts):\n",
    "    mica_goid = deepest_common_ancestor([go_id1, go_id2], godag)\n",
    "    freq = termcounts.get_term_freq(mica_goid) \n",
    "    infocontentMica = get_info_content(mica_goid, termcounts)\n",
    "    infocontent1 = get_info_content(go_id1, termcounts)\n",
    "    infocontent2 = get_info_content(go_id2, termcounts)\n",
    "\n",
    "    return (2*infocontent*(1-freq))/(infocontent1+infocontent2)"
   ]
  }
 ],
 "metadata": {
  "kernelspec": {
   "display_name": "Python 3",
   "language": "python",
   "name": "python3"
  },
  "language_info": {
   "codemirror_mode": {
    "name": "ipython",
    "version": 3
   },
   "file_extension": ".py",
   "mimetype": "text/x-python",
   "name": "python",
   "nbconvert_exporter": "python",
   "pygments_lexer": "ipython3",
   "version": "3.5.6"
  }
 },
 "nbformat": 4,
 "nbformat_minor": 2
}
