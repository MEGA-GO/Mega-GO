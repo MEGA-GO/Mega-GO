{
 "cells": [
  {
   "cell_type": "code",
   "execution_count": 2,
   "metadata": {
    "colab": {
     "base_uri": "https://localhost:8080/",
     "height": 358
    },
    "colab_type": "code",
    "id": "XdcxOVEtfdDJ",
    "outputId": "5b8a57f4-0dcd-44fc-986e-1de2076e393e"
   },
   "outputs": [
    {
     "name": "stdout",
     "output_type": "stream",
     "text": [
      "resource_data/go-basic.obo: fmt(1.2) rel(2020-01-01) 47,337 GO Terms\n"
     ]
    }
   ],
   "source": [
    "from goatools.obo_parser import GODag\n",
    "godag = GODag(\"resource_data/go-basic.obo\")"
   ]
  },
  {
   "cell_type": "code",
   "execution_count": null,
   "metadata": {
    "colab": {},
    "colab_type": "code",
    "id": "LFP3pl0SfdDW"
   },
   "outputs": [],
   "source": [
    "import os\n",
    "from goatools.associations import dnld_assc\n",
    "#fin_gaf = os.path.join(os.getcwd(), \"goa_uniprot_all.gaf\")\n",
    "#associations = dnld_assc(fin_gaf, godag, namespace='all')"
   ]
  },
  {
   "cell_type": "code",
   "execution_count": 3,
   "metadata": {
    "colab": {},
    "colab_type": "code",
    "id": "0OYPMkXW9tcD"
   },
   "outputs": [
    {
     "name": "stdout",
     "output_type": "stream",
     "text": [
      "HMS:0:00:19.736018 3,571,800 annotations READ: resource_data/associations-uniprot-sp-20200116.tab \n",
      "536442 IDs in loaded association branch, all\n"
     ]
    }
   ],
   "source": [
    "from goatools.anno.idtogos_reader import IdToGosReader\n",
    "associations = IdToGosReader(\"resource_data/associations-uniprot-sp-20200116.tab\", godag=godag).get_id2gos('all')"
   ]
  },
  {
   "cell_type": "code",
   "execution_count": 0,
   "metadata": {
    "colab": {},
    "colab_type": "code",
    "id": "SUIRoIQEfdDd"
   },
   "outputs": [],
   "source": [
    "go_id1 = 'GO:0048364'\n",
    "go_id2 = 'GO:0032501'"
   ]
  },
  {
   "cell_type": "code",
   "execution_count": 4,
   "metadata": {
    "colab": {},
    "colab_type": "code",
    "id": "5ablaVuNfdDn"
   },
   "outputs": [],
   "source": [
    "from goatools.semantic import deepest_common_ancestor\n",
    "from goatools.semantic import TermCounts, get_info_content\n"
   ]
  },
  {
   "cell_type": "code",
   "execution_count": 0,
   "metadata": {
    "colab": {},
    "colab_type": "code",
    "id": "_LufN60VfdDs"
   },
   "outputs": [],
   "source": [
    "from goatools.semantic import semantic_similarity\n",
    "\n",
    "sim = semantic_similarity(go_id1, go_id2, godag)\n",
    "print('The semantic similarity between terms {} and {} is {}.'.format(go_id1, go_id2, sim))"
   ]
  },
  {
   "cell_type": "code",
   "execution_count": 10,
   "metadata": {
    "colab": {},
    "colab_type": "code",
    "id": "DBfc0I0vfdD1"
   },
   "outputs": [],
   "source": [
    "from goatools.semantic import TermCounts, get_info_content\n",
    "\n",
    "# First get the counts of each GO term.\n",
    "termcounts = TermCounts(godag, associations)\n",
    "\n",
    "# Calculate the information content\n",
    "# go_id = \"GO:0008152\"\n",
    "# infocontent = get_info_content(go_id, termcounts)\n",
    "# print('Information content ({}) = {}'.format(go_id, infocontent))"
   ]
  },
  {
   "cell_type": "code",
   "execution_count": 0,
   "metadata": {
    "colab": {},
    "colab_type": "code",
    "id": "FFZMfxBwfdD5"
   },
   "outputs": [],
   "source": [
    "from goatools.semantic import lin_sim\n",
    "\n",
    "sim_l = lin_sim(go_id1, go_id2, godag, termcounts)\n",
    "print('Lin similarity score ({}, {}) = {}'.format(go_id1, go_id2, sim_l))"
   ]
  },
  {
   "cell_type": "code",
   "execution_count": 0,
   "metadata": {
    "colab": {},
    "colab_type": "code",
    "id": "r7SSBUXefdD9"
   },
   "outputs": [],
   "source": [
    "freq = termcounts.get_term_freq(go_id)\n",
    "freq"
   ]
  },
  {
   "cell_type": "code",
   "execution_count": 0,
   "metadata": {
    "colab": {},
    "colab_type": "code",
    "id": "GaXhpU9u-C8L"
   },
   "outputs": [],
   "source": []
  },
  {
   "cell_type": "code",
   "execution_count": 5,
   "metadata": {
    "colab": {},
    "colab_type": "code",
    "id": "7piQ2qoxfdEH"
   },
   "outputs": [],
   "source": [
    "import multiprocessing\n",
    "\n",
    "def BMA(GO_list1,GO_list2,termcounts,similarity_method=None):\n",
    "    summationSet12 = 0.0\n",
    "    summationSet21 = 0.0\n",
    "    for id1 in GO_list1:\n",
    "        similarity_values = []\n",
    "        for id2 in GO_list2:\n",
    "            similarity_values.append(Rel_Metric(id1,id2,godag,termcounts))\n",
    "        summationSet12 += max(similarity_values)\n",
    "    for id2 in GO_list2:\n",
    "        similarity_values = []\n",
    "        for id1 in GO_list1:\n",
    "            similarity_values.append(Rel_Metric(id2,id1,godag,termcounts))\n",
    "        summationSet21 += max(similarity_values)\n",
    "    return (summationSet12+summationSet21)/(len(GO_list1)+len(GO_list2))"
   ]
  },
  {
   "cell_type": "code",
   "execution_count": 18,
   "metadata": {},
   "outputs": [],
   "source": [
    "from goatools.gosubdag.gosubdag import GoSubDag\n"
   ]
  },
  {
   "cell_type": "code",
   "execution_count": 38,
   "metadata": {},
   "outputs": [],
   "source": [
    "def get_highest_ic_anc(id,termcounts):\n",
    "    gosubdag_r0 = GoSubDag([id], godag, prt=None)\n",
    "    P = gosubdag_r0.rcntobj.go2parents[id]\n",
    "    max_ic = 0\n",
    "    for i in P:\n",
    "        ic = get_info_content(i, termcounts)\n",
    "        if(max_ic < ic):\n",
    "            max_ic = ic\n",
    "    return max_ic"
   ]
  },
  {
   "cell_type": "code",
   "execution_count": 35,
   "metadata": {
    "colab": {},
    "colab_type": "code",
    "id": "RlC39LQMfdEM"
   },
   "outputs": [],
   "source": [
    "def Rel_Metric(id1, id2, godag, termcounts):\n",
    "    if id1 == '' or id2 == '':\n",
    "        return -1\n",
    "    goterm1 = godag[id1]\n",
    "    goterm2 = godag[id2]\n",
    "    if goterm1.namespace == goterm2.namespace:\n",
    "        mica_goid = deepest_common_ancestor([id1, id2], godag)\n",
    "        freq = termcounts.get_term_freq(mica_goid)\n",
    "        info_content = get_info_content(mica_goid, termcounts)\n",
    "        info_content1 = get_info_content(id1, termcounts)\n",
    "        info_content2 = get_info_content(id2, termcounts)\n",
    "        if(info_content1 == 0):\n",
    "             info_content1 = get_highest_ic_anc(id1,termcounts)\n",
    "        if(info_content2 == 0):\n",
    "             info_content2 = get_highest_ic_anc(id2,termcounts)\n",
    "        return (2 * info_content * (1 - freq)) / (info_content1 + info_content2)\n",
    "    else:\n",
    "        return -1"
   ]
  },
  {
   "cell_type": "code",
   "execution_count": 0,
   "metadata": {
    "colab": {},
    "colab_type": "code",
    "id": "u55472VegQhw"
   },
   "outputs": [],
   "source": [
    "def read_input(file_path):\n",
    "\n",
    "  \"\"\"\"\n",
    "  This function reads a csv with two columns of GO terms, coming from two datasets\n",
    "  Returns two lists of GO terms\n",
    "  \"\"\"\n",
    "\n",
    "  GO_list1, GO_list2 = list(), list()\n",
    "  \n",
    "  with open(file_path, \"r\", encoding='utf-8-sig') as in_f: #other files might require other encoding?\n",
    "    for line in in_f:\n",
    "      if not line.startswith(\"GO\"): # skip header\n",
    "        continue\n",
    "      print(line)\n",
    "      GO1, GO2, _ = line.strip().split(\";\", maxsplit=2)\n",
    "      \n",
    "      # add GO1 to GO_list1\n",
    "      GO1_sub = list()\n",
    "      if \",\" in GO1:\n",
    "        mGO = GO1.split(\",\")\n",
    "        for GO in mGO:\n",
    "          GO1_sub.append(GO)\n",
    "      else:\n",
    "        GO1_sub.append(GO1)\n",
    "      GO_list1.append(GO1_sub)\n",
    "      \n",
    "\n",
    "      # add GO2 to GO_list2\n",
    "      GO2_sub = list()\n",
    "      if \",\" in GO2:\n",
    "        mGO = GO2.split(\",\")\n",
    "        for GO in mGO:\n",
    "          GO2_sub.append(GO)\n",
    "      else:\n",
    "        GO2_sub.append(GO2)\n",
    "      GO_list2.append(GO2_sub)\n",
    "    \n",
    "    return GO_list1, GO_list2"
   ]
  },
  {
   "cell_type": "code",
   "execution_count": 0,
   "metadata": {
    "colab": {},
    "colab_type": "code",
    "id": "hlMFrxoLmtRM"
   },
   "outputs": [],
   "source": [
    "GO_list1, GO_list2 = read_input('GO terms.csv')"
   ]
  },
  {
   "cell_type": "code",
   "execution_count": 0,
   "metadata": {
    "colab": {},
    "colab_type": "code",
    "id": "_MioZ6yTnH9o"
   },
   "outputs": [],
   "source": [
    "print(GO_list1)\n",
    "print(GO_list2)"
   ]
  },
  {
   "cell_type": "code",
   "execution_count": 0,
   "metadata": {
    "colab": {},
    "colab_type": "code",
    "id": "H_NwULTuoW-G"
   },
   "outputs": [],
   "source": [
    "for i in range(0,len(GO_list1)):\n",
    "  BMA_test = BMA(GO_list1[i],GO_list2[i])\n",
    "  print(BMA_test)"
   ]
  },
  {
   "cell_type": "code",
   "execution_count": 0,
   "metadata": {
    "colab": {},
    "colab_type": "code",
    "id": "dRXnYjBW-Qbm"
   },
   "outputs": [],
   "source": [
    "termcounts = TermCounts(godag, associations)"
   ]
  },
  {
   "cell_type": "code",
   "execution_count": 0,
   "metadata": {
    "colab": {
     "base_uri": "https://localhost:8080/",
     "height": 203
    },
    "colab_type": "code",
    "id": "90PKI1qI944Z",
    "outputId": "f5014a3e-5d95-43f2-e748-eceb2283f814"
   },
   "outputs": [
    {
     "name": "stdout",
     "output_type": "stream",
     "text": [
      "0.33877743862689497\n",
      "0.16645336402284938\n",
      "0.0\n",
      "-1.0\n",
      "0.4958756327741224\n",
      "0.11295263352259761\n",
      "0.09699230064168216\n",
      "0.3038198818835536\n",
      "-1.0\n",
      "0.0\n"
     ]
    }
   ],
   "source": [
    "for i in range(0,len(GO_list1)):\n",
    "  BMA_test = BMA(GO_list1[i],GO_list2[i],termcounts)\n",
    "  print(BMA_test)"
   ]
  },
  {
   "cell_type": "code",
   "execution_count": 40,
   "metadata": {
    "colab": {
     "base_uri": "https://localhost:8080/",
     "height": 36
    },
    "colab_type": "code",
    "id": "CRRGm_1Lic9q",
    "outputId": "444de1d8-fe13-4e6a-bcd7-28668d039ce8"
   },
   "outputs": [
    {
     "name": "stdout",
     "output_type": "stream",
     "text": [
      "0.11295263352259761\n"
     ]
    }
   ],
   "source": [
    "BMA_test = BMA(['GO:0005488'],['GO:0048037','GO:0036094'],termcounts)\n",
    "print(BMA_test)"
   ]
  },
  {
   "cell_type": "code",
   "execution_count": 34,
   "metadata": {},
   "outputs": [
    {
     "name": "stdout",
     "output_type": "stream",
     "text": [
      "2.3339909262250016\n",
      "3.656836456801969\n",
      "-0.0\n"
     ]
    },
    {
     "data": {
      "text/plain": [
       "3.656836456801969"
      ]
     },
     "execution_count": 34,
     "metadata": {},
     "output_type": "execute_result"
    }
   ],
   "source": [
    "get_highest_ic_anc('GO:0090634')"
   ]
  },
  {
   "cell_type": "code",
   "execution_count": 32,
   "metadata": {},
   "outputs": [
    {
     "ename": "ImportError",
     "evalue": "cannot import name 'get_go2parents'",
     "output_type": "error",
     "traceback": [
      "\u001b[1;31m---------------------------------------------------------------------------\u001b[0m",
      "\u001b[1;31mImportError\u001b[0m                               Traceback (most recent call last)",
      "\u001b[1;32m<ipython-input-32-375011a322d0>\u001b[0m in \u001b[0;36m<module>\u001b[1;34m()\u001b[0m\n\u001b[1;32m----> 1\u001b[1;33m \u001b[1;32mfrom\u001b[0m \u001b[0mgoatools\u001b[0m\u001b[1;33m.\u001b[0m\u001b[0mgodag\u001b[0m\u001b[1;33m.\u001b[0m\u001b[0mgo_tasks\u001b[0m \u001b[1;32mimport\u001b[0m \u001b[0mget_go2parents\u001b[0m\u001b[1;33m\u001b[0m\u001b[0m\n\u001b[0m\u001b[0;32m      2\u001b[0m \u001b[0mgo2parents_isa\u001b[0m \u001b[1;33m=\u001b[0m \u001b[0mget_go2parents\u001b[0m\u001b[1;33m(\u001b[0m\u001b[0mgodag\u001b[0m\u001b[1;33m)\u001b[0m\u001b[1;33m\u001b[0m\u001b[0m\n\u001b[0;32m      3\u001b[0m \u001b[0mP\u001b[0m\u001b[1;33m=\u001b[0m\u001b[0mgo2parents_isa\u001b[0m\u001b[1;33m[\u001b[0m\u001b[1;34m'GO:0090634'\u001b[0m\u001b[1;33m]\u001b[0m\u001b[1;33m\u001b[0m\u001b[0m\n",
      "\u001b[1;31mImportError\u001b[0m: cannot import name 'get_go2parents'"
     ]
    }
   ],
   "source": [
    "Rel_Metric()"
   ]
  }
 ],
 "metadata": {
  "colab": {
   "collapsed_sections": [],
   "name": "similarty_metrics.ipynb",
   "provenance": []
  },
  "kernelspec": {
   "display_name": "Python 3",
   "language": "python",
   "name": "python3"
  },
  "language_info": {
   "codemirror_mode": {
    "name": "ipython",
    "version": 3
   },
   "file_extension": ".py",
   "mimetype": "text/x-python",
   "name": "python",
   "nbconvert_exporter": "python",
   "pygments_lexer": "ipython3",
   "version": "3.5.6"
  }
 },
 "nbformat": 4,
 "nbformat_minor": 1
}
